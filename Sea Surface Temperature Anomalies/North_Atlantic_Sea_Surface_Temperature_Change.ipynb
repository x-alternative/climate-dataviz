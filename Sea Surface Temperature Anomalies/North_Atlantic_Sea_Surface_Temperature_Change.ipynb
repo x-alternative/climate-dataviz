{
 "nbformat": 4,
 "nbformat_minor": 0,
 "metadata": {
  "colab": {
   "provenance": []
  },
  "kernelspec": {
   "name": "python3",
   "language": "python",
   "display_name": "Python 3 (ipykernel)"
  },
  "language_info": {
   "name": "python"
  }
 },
 "cells": [
  {
   "cell_type": "code",
   "execution_count": null,
   "metadata": {
    "id": "sq4PJ8Mj0wDo"
   },
   "outputs": [],
   "source": [
    "import urllib.request\n",
    "import json\n",
    "import pandas as pd\n",
    "import calendar\n",
    "import numpy as np\n",
    "import matplotlib.pyplot as plt\n",
    "from matplotlib.collections import LineCollection\n",
    "from matplotlib import animation, rc\n",
    "from tqdm import tqdm"
   ]
  },
  {
   "cell_type": "code",
   "source": [
    "json_url = urllib.request.urlopen('https://climatereanalyzer.org/clim/sst_daily/json/oisst2.1_natlan1_sst_day.json')\n",
    "json_data = json.load(json_url)"
   ],
   "metadata": {
    "id": "wfmKP3G10_Vd"
   },
   "execution_count": null,
   "outputs": []
  },
  {
   "cell_type": "code",
   "source": [
    "def dataframe_from_json(json_data):\n",
    "  df = pd.DataFrame({'Year': pd.Series(dtype='int'), 'Month': pd.Series(dtype='int'), 'Mean':pd.Series(dtype='float')})\n",
    "  for i in range(0,43):\n",
    "    year = int(json_data[i]['name'])\n",
    "    day_value_in_year = 0\n",
    "    for month in range(1,13):\n",
    "      num_days_in_month = calendar.monthrange(year,month)[1]\n",
    "      numerator = 0\n",
    "      denominator = 0\n",
    "      for day in range(1,num_days_in_month+1):\n",
    "        day_value = json_data[i]['data'][day+day_value_in_year - 1]\n",
    "        if day_value is not None:\n",
    "          numerator += day_value\n",
    "          denominator += 1\n",
    "      if(denominator != 0):\n",
    "        df = pd.concat([df, pd.DataFrame([{'Year': year, 'Month': month, 'Mean': numerator/denominator}])], ignore_index=True)\n",
    "      else:\n",
    "        df = pd.concat([df, pd.DataFrame([{'Year': year, 'Month': month, 'Mean': 0}])], ignore_index=True)\n",
    "      day_value_in_year += num_days_in_month\n",
    "  return df"
   ],
   "metadata": {
    "id": "UWql8arN6r7c"
   },
   "execution_count": null,
   "outputs": []
  },
  {
   "cell_type": "code",
   "source": [
    "df = dataframe_from_json(json_data)\n",
    "df = df.drop(df[df['Year'] == 1981].index)\n",
    "df = df.drop(df[df['Mean'] == 0.0].index)\n",
    "df['Month_str'] = df['Month'].map(lambda x: calendar.month_name[x][0:3])\n",
    "df['Angle'] = df['Month'].apply(lambda x: (x-1)/12*2*np.pi)\n",
    "df['Variations'] = 0\n",
    "for i in range(1,13):\n",
    "  df['Variations'][df['Month'] == i] = df[df['Month'] == i]['Mean'] - df[df['Month'] == i]['Mean'].mean()"
   ],
   "metadata": {
    "colab": {
     "base_uri": "https://localhost:8080/"
    },
    "id": "EP7Xct0KK_yt",
    "outputId": "53e20f07-bd90-4c12-a4d8-49f10a770292"
   },
   "execution_count": null,
   "outputs": []
  },
  {
   "cell_type": "code",
   "source": [
    "points = np.array([df.Angle, df.Variations]).T.reshape(-1,1,2)\n",
    "segments = np.concatenate([points[:-1], points[1:]], axis=1)\n",
    "labels = list(df.Month_str.unique())"
   ],
   "metadata": {
    "id": "-69RETmypJOH"
   },
   "execution_count": null,
   "outputs": []
  },
  {
   "cell_type": "code",
   "source": [
    "df.reset_index(inplace=True)"
   ],
   "metadata": {
    "id": "hJTbP3LrtogU"
   },
   "execution_count": null,
   "outputs": []
  },
  {
   "cell_type": "code",
   "source": [
    "fig, ax = plt.subplots(subplot_kw={'projection': 'polar'}, figsize=(16, 16))\n",
    "\n",
    "# Set a title for the plot\n",
    "ax.set_title(\"North Atlantic Sea Surface Temperature Change (1982-2023) \\n\", color='white', fontdict={'fontsize': 20})\n",
    "\n",
    "# Make the plot clockwise\n",
    "ax.set_theta_direction(-1)\n",
    "\n",
    "# With the zero (Jan) on top\n",
    "ax.set_theta_zero_location('N')\n",
    "\n",
    "ax.set_ylim(-1, 1.4)\n",
    "ax.set_xticks(np.arange(12)/12*2*np.pi)\n",
    "ax.set_xticklabels(labels, color='white', fontsize=18)\n",
    "\n",
    "# Set the year label placeholder\n",
    "label = ax.text(0, -1, df.Year[0],\n",
    "            ha='center', va='center', size=24, color='white')\n",
    "\n",
    "# Create a continuous norm to map from data points to colors\n",
    "norm = plt.Normalize(df.Variations.min(), df.Variations.max())\n",
    "lines = []\n",
    "lc = LineCollection(lines, cmap=plt.cm.coolwarm, norm=norm)\n",
    "line = ax.add_collection(lc)\n",
    "\n",
    "# Generate the color bar\n",
    "cb = fig.colorbar(line, ax=ax)\n",
    "cb.set_label('Temperature Anomaly', color='white', size=18)\n",
    "cb.ax.yaxis.set_tick_params(color='white')\n",
    "cb.outline.set_edgecolor('white')\n",
    "plt.setp(plt.getp(cb.ax.axes, 'yticklabels'), color=r'white', size=18)\n",
    "\n",
    "# Make the background black\n",
    "fig.patch.set_facecolor('black')\n",
    "ax.patch.set_facecolor('black')\n",
    "\n",
    "# The number of data points we have\n",
    "Nmonths = segments.shape[0]\n",
    "\n",
    "bar = tqdm(total=Nmonths)\n",
    "\n",
    "# Define the function that will generate each frame\n",
    "def animate(count):\n",
    "    bar.update()\n",
    "    lc.set_segments(segments[:count])\n",
    "\n",
    "    # Set the values used for colormapping\n",
    "    lc.set_array(df.Variations.iloc[:count])\n",
    "    lc.set_linewidth(2)\n",
    "\n",
    "    # Update the year label\n",
    "    label.set_text(df.Year[count])\n",
    "\n",
    "    return (lc, label)\n",
    "\n",
    "# Create the animation object\n",
    "anim = animation.FuncAnimation(fig, animate,\n",
    "                               frames=np.arange(1, Nmonths, 1),\n",
    "                               interval=1, blit=False, repeat=False)\n",
    "\n",
    "# One second per year\n",
    "writer = animation.writers['ffmpeg'](fps=12)\n",
    "\n",
    "# Save the file\n",
    "anim.save('North Atlantic Sea Surface Temperature Change.mp4', writer=writer)"
   ],
   "metadata": {
    "colab": {
     "base_uri": "https://localhost:8080/",
     "height": 1000
    },
    "id": "LV1L6ltynyPD",
    "outputId": "556b5591-ff33-4a6d-a6f7-eaa3a9e56a0b"
   },
   "execution_count": null,
   "outputs": []
  }
 ]
}
